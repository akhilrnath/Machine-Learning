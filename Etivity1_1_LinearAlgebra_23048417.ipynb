{
  "cells": [
    {
      "cell_type": "markdown",
      "metadata": {
        "id": "ETrK_379jMvH"
      },
      "source": [
        "### Your details"
      ]
    },
    {
      "cell_type": "markdown",
      "metadata": {
        "id": "0MzTSctmjMvO"
      },
      "source": [
        "**Your Name: AKHIL RAGHU NATH**"
      ]
    },
    {
      "cell_type": "markdown",
      "metadata": {
        "id": "ShF6jGIYjMvQ"
      },
      "source": [
        "**Your ID number:23048417**"
      ]
    },
    {
      "cell_type": "markdown",
      "metadata": {
        "id": "GhamLp9MjMvQ"
      },
      "source": [
        "# Task 1"
      ]
    },
    {
      "cell_type": "markdown",
      "metadata": {
        "id": "GdVUH8c-jMvS"
      },
      "source": [
        "## Approach\n",
        "\n",
        "(Describe the approaches you took, etc.)"
      ]
    },
    {
      "cell_type": "markdown",
      "metadata": {
        "id": "9tQwPJ7LjMvT"
      },
      "source": [
        "## Manual Calculations\n",
        "\n",
        "(If you used manual calculations to verify your code, mention them here)"
      ]
    },
    {
      "cell_type": "markdown",
      "metadata": {
        "id": "2a0DKpZFjMvU"
      },
      "source": [
        "#Scalar multiplication of Vector"
      ]
    },
    {
      "cell_type": "code",
      "execution_count": 60,
      "metadata": {
        "id": "tgGT0FGwjMvV"
      },
      "outputs": [],
      "source": [
        "def scalar_multiply(vector,s):  # we here pass a vector and scalar ,then multiply both\n",
        " ret=[]  #empty list/vector\n",
        " for i in range(0,len(vector)):\n",
        "  ret.append(vector[i]*s)   # Multiply each elements of vector  with scalar\n",
        " return ret"
      ]
    },
    {
      "cell_type": "markdown",
      "source": [
        "Example 1"
      ],
      "metadata": {
        "id": "CEWA3SEiXPnZ"
      }
    },
    {
      "cell_type": "code",
      "source": [
        "L1 = [3,4]  # sample vector\n",
        "s = 2\n",
        "print(\" The result is : \",scalar_multiply(L1,s))\n",
        "# output will be [6,8]"
      ],
      "metadata": {
        "colab": {
          "base_uri": "https://localhost:8080/"
        },
        "id": "57S6KqLfpNEB",
        "outputId": "be47babb-f89b-43ba-80b8-468f571aa71c"
      },
      "execution_count": 167,
      "outputs": [
        {
          "output_type": "stream",
          "name": "stdout",
          "text": [
            " The result is :  [6, 8]\n"
          ]
        }
      ]
    },
    {
      "cell_type": "markdown",
      "source": [
        "Example 2"
      ],
      "metadata": {
        "id": "m_M2ME14Xa7s"
      }
    },
    {
      "cell_type": "code",
      "source": [
        "L2 = [1,5]  # sample vector\n",
        "s2 = 4\n",
        "print(\"The result is : \",scalar_multiply(L2,s2))# output will be [4,20]"
      ],
      "metadata": {
        "id": "YsDrkWBITQ17",
        "colab": {
          "base_uri": "https://localhost:8080/"
        },
        "outputId": "515f0263-e1e0-4cb4-aea2-004362424a99"
      },
      "execution_count": 168,
      "outputs": [
        {
          "output_type": "stream",
          "name": "stdout",
          "text": [
            " The result is :  [4, 20]\n"
          ]
        }
      ]
    },
    {
      "cell_type": "markdown",
      "source": [
        "Example 3"
      ],
      "metadata": {
        "id": "R5T6QXGNYzIH"
      }
    },
    {
      "cell_type": "code",
      "source": [
        "L3 = [12,20]  # sample vector\n",
        "s2 = 3\n",
        "print(\"The result is : \",scalar_multiply(L2,s2))# output will be [36,60]"
      ],
      "metadata": {
        "colab": {
          "base_uri": "https://localhost:8080/"
        },
        "id": "Rwe1W8v8XZPB",
        "outputId": "f740b494-6948-4e0d-de27-d7b4b515836f"
      },
      "execution_count": 169,
      "outputs": [
        {
          "output_type": "stream",
          "name": "stdout",
          "text": [
            "The result is :  [3, 15]\n"
          ]
        }
      ]
    },
    {
      "cell_type": "markdown",
      "metadata": {
        "id": "zfIRH_VkjMva"
      },
      "source": [
        "# Addition and Substraction of Two vectors"
      ]
    },
    {
      "cell_type": "code",
      "source": [
        "def Vector_addition( V1,V2):  # we here pass a vector and vector ,then adding both\n",
        " if len(V1) != len(V2) :  # check if both are of suitable size\n",
        "   raise ValueError( \"The vecotr should be of same length \")\n",
        "  ret=[]\n",
        "  for i in range(0,len(V1)):\n",
        "   ret.append(V1[i] + V2[i])  # addition\n",
        "  return ret\n",
        "\n",
        "def Vector_substraction(V1,V2):# we here pass a vector and vector ,then substracting both\n",
        "  if len(V1) != len(V2):# check if are both of suitable size\n",
        "    raise ValueError(\"The vector sshould be of same length \")\n",
        "  ret=[]\n",
        "  for i in range(0,len(V1)):\n",
        "    ret.append(V1[i] -V2[i]) # substraction\n",
        "  return ret"
      ],
      "metadata": {
        "id": "zglfuib4n1uI"
      },
      "execution_count": 6,
      "outputs": []
    },
    {
      "cell_type": "markdown",
      "source": [
        "Example 1"
      ],
      "metadata": {
        "id": "Pczgaa0UZTjQ"
      }
    },
    {
      "cell_type": "code",
      "source": [
        "V1=[1,2]\n",
        "V2=[3,4]\n",
        "print (\"The result of Addition is : \",Vector_addition(V1,V2))\n",
        "print(\"The result of Substraction is : \",Vector_substraction(V1,V2)) # output will be [4,6],]-2,-2]"
      ],
      "metadata": {
        "colab": {
          "base_uri": "https://localhost:8080/"
        },
        "id": "lXbXLMI_oHC4",
        "outputId": "72ce1230-f547-484f-f439-57f667bf8033"
      },
      "execution_count": 170,
      "outputs": [
        {
          "output_type": "stream",
          "name": "stdout",
          "text": [
            "The result of Addition is :  [4, 6]\n",
            "The result of Substraction is :  [-2, -2]\n"
          ]
        }
      ]
    },
    {
      "cell_type": "markdown",
      "source": [
        "Example 2"
      ],
      "metadata": {
        "id": "Wn-ZD8vgZZpe"
      }
    },
    {
      "cell_type": "code",
      "source": [
        "V1=[4,10]\n",
        "V2=[2,6]\n",
        "print (\"The result of Addition is : \",Vector_addition(V1,V2))\n",
        "print(\"The result of Substraction is : \",Vector_substraction(V1,V2))"
      ],
      "metadata": {
        "colab": {
          "base_uri": "https://localhost:8080/"
        },
        "id": "KMIc8GyQZbXP",
        "outputId": "ae1fefcc-4938-47bf-c0cd-1a2b7d2eb9d8"
      },
      "execution_count": 172,
      "outputs": [
        {
          "output_type": "stream",
          "name": "stdout",
          "text": [
            "The result of Addition is :  [6, 16]\n",
            "The result of Substraction is :  [2, 4]\n"
          ]
        }
      ]
    },
    {
      "cell_type": "markdown",
      "source": [
        "Example 3"
      ],
      "metadata": {
        "id": "7pd18GaNZb_y"
      }
    },
    {
      "cell_type": "code",
      "source": [
        "V1=[25,50]\n",
        "V2=[15,40]\n",
        "print (\"The result of Addition is : \",Vector_addition(V1,V2))\n",
        "print(\"The result of Substraction is : \",Vector_substraction(V1,V2))"
      ],
      "metadata": {
        "colab": {
          "base_uri": "https://localhost:8080/"
        },
        "id": "VETB7oEiZctD",
        "outputId": "7b33b650-9305-45b4-a47d-342d1f8d13b4"
      },
      "execution_count": 174,
      "outputs": [
        {
          "output_type": "stream",
          "name": "stdout",
          "text": [
            "The result of Addition is :  [40, 90]\n",
            "The result of Substraction is :  [10, 10]\n"
          ]
        }
      ]
    },
    {
      "cell_type": "markdown",
      "source": [],
      "metadata": {
        "id": "YBwQ8uf1ZdaI"
      }
    },
    {
      "cell_type": "markdown",
      "source": [
        "# Dot product of vector of lenght n"
      ],
      "metadata": {
        "id": "ms44c5SFnFMi"
      }
    },
    {
      "cell_type": "code",
      "source": [
        "def dot_product(V1,V2):\n",
        "  if len(V1)!=len(V2): # check if are both of suitable size\n",
        "    raise ValeError (\"The length of the vector should be same\")\n",
        "  ret=0\n",
        "  for i in range(0,len(V1)):\n",
        "    ret +=V1[i]*V2[i]\n",
        "  return ret"
      ],
      "metadata": {
        "id": "SL1yCJ5Pn2hA"
      },
      "execution_count": 182,
      "outputs": []
    },
    {
      "cell_type": "markdown",
      "source": [
        "Example 1"
      ],
      "metadata": {
        "id": "Fuv7EUefaTfK"
      }
    },
    {
      "cell_type": "code",
      "source": [
        "V1=[2,3,4]\n",
        "V2=[4,5,6]\n",
        "print(\"The result is : \",dot_product(V1,V2)) # output will be 47"
      ],
      "metadata": {
        "colab": {
          "base_uri": "https://localhost:8080/"
        },
        "id": "agZKtBaxoci-",
        "outputId": "8a09f44f-ace6-4dc6-b780-6f43aa3cc4ca"
      },
      "execution_count": 181,
      "outputs": [
        {
          "output_type": "stream",
          "name": "stdout",
          "text": [
            "The result is :  47\n"
          ]
        }
      ]
    },
    {
      "cell_type": "markdown",
      "source": [
        "Example 2"
      ],
      "metadata": {
        "id": "tOJ4xH5xaUZg"
      }
    },
    {
      "cell_type": "code",
      "source": [
        "V1=[5,9,12]\n",
        "V2=[3,6,9]\n",
        "print(\"The result is : \",dot_product(V1,V2))"
      ],
      "metadata": {
        "colab": {
          "base_uri": "https://localhost:8080/"
        },
        "id": "7swsTH41aU5I",
        "outputId": "86ec9bff-98ed-4205-c1a8-9cbf8e997ace"
      },
      "execution_count": 180,
      "outputs": [
        {
          "output_type": "stream",
          "name": "stdout",
          "text": [
            "The result is :  177\n"
          ]
        }
      ]
    },
    {
      "cell_type": "markdown",
      "source": [
        "Example 3"
      ],
      "metadata": {
        "id": "ZgeSwlQPaVft"
      }
    },
    {
      "cell_type": "code",
      "source": [
        "V1=[1,1,1]\n",
        "V2=[5,10,15]\n",
        "print(\"The result is : \",dot_product(V1,V2))"
      ],
      "metadata": {
        "colab": {
          "base_uri": "https://localhost:8080/"
        },
        "id": "yx-u7FgfaWC1",
        "outputId": "22a37b03-d454-4a73-b895-f41f55fa0538"
      },
      "execution_count": 179,
      "outputs": [
        {
          "output_type": "stream",
          "name": "stdout",
          "text": [
            "The result is :  30\n"
          ]
        }
      ]
    },
    {
      "cell_type": "markdown",
      "source": [
        "# Cross product of 3d vector"
      ],
      "metadata": {
        "id": "eoi9EdBSnFpQ"
      }
    },
    {
      "cell_type": "code",
      "source": [
        "def cross_product(v1, v2):\n",
        " if len(v1)!= 3 and len(v2)!=3:# check if both  3D vectors\n",
        "  raise ValueError( \"Cross product is only for 3D vectors\")\n",
        " ret=[0,0,0]\n",
        " # cross product calculation\n",
        " ret[0]=v1[1]*v2[2]- v1[2]*v2[1]\n",
        " ret[1]=v1[2]*v2[0]- v1[0]*v2[2]\n",
        " ret[2]=v1[0]*v2[1]- v1[1]*v2[0]\n",
        " return ret"
      ],
      "metadata": {
        "id": "60oncSJzn3SK"
      },
      "execution_count": 178,
      "outputs": []
    },
    {
      "cell_type": "markdown",
      "source": [
        "Example 1"
      ],
      "metadata": {
        "id": "vYojXSeRbzh2"
      }
    },
    {
      "cell_type": "code",
      "source": [
        "v1=[1,2,3]\n",
        "v2=[4,5,6]\n",
        "print(\"The result is : \",cross_product(v1,v2)) # output will be [-3,6,-3]"
      ],
      "metadata": {
        "colab": {
          "base_uri": "https://localhost:8080/"
        },
        "id": "k9mKzBT9oiQp",
        "outputId": "3245f99c-2c31-4b35-88f5-b7911cf051b2"
      },
      "execution_count": 177,
      "outputs": [
        {
          "output_type": "stream",
          "name": "stdout",
          "text": [
            "The result is :  [-3, 6, -3]\n"
          ]
        }
      ]
    },
    {
      "cell_type": "markdown",
      "source": [
        "Example 2"
      ],
      "metadata": {
        "id": "Qdppe14Sbwc7"
      }
    },
    {
      "cell_type": "code",
      "source": [
        "v1=[0,1,0]\n",
        "v2=[4,5,6]\n",
        "print(\"The result is : \",cross_product(v1,v2))"
      ],
      "metadata": {
        "colab": {
          "base_uri": "https://localhost:8080/"
        },
        "id": "G6RxhK3Cbw86",
        "outputId": "30d5967a-cd1c-42c0-c646-c43eb58e0c50"
      },
      "execution_count": 176,
      "outputs": [
        {
          "output_type": "stream",
          "name": "stdout",
          "text": [
            "The result is :  [6, 0, -4]\n"
          ]
        }
      ]
    },
    {
      "cell_type": "markdown",
      "source": [
        "Example 3"
      ],
      "metadata": {
        "id": "DZlNi1TwbxXv"
      }
    },
    {
      "cell_type": "code",
      "source": [
        "v1=[10,2,30]\n",
        "v2=[-5,7,-1]\n",
        "print(\"The result is : \",cross_product(v1,v2))"
      ],
      "metadata": {
        "colab": {
          "base_uri": "https://localhost:8080/"
        },
        "id": "qbQPUBUpb3rm",
        "outputId": "b61d573c-1596-4bbf-fd95-af62599359da"
      },
      "execution_count": 175,
      "outputs": [
        {
          "output_type": "stream",
          "name": "stdout",
          "text": [
            "The result is :  [-212, -140, 80]\n"
          ]
        }
      ]
    },
    {
      "cell_type": "markdown",
      "source": [
        "# Calculate and return the size of a matrix as a 2-dimensional tuple"
      ],
      "metadata": {
        "id": "PG96RApInGA1"
      }
    },
    {
      "cell_type": "code",
      "source": [
        "def size_of_matrix(M):\n",
        " if M== [] :  # check for Empty Matrix\n",
        "  raise ValueError(\"This is a empty matrix\")\n",
        "  coloumn =len(M[0])  # Calculate the length of coloumns\n",
        "  row =len(M)  # calculate length of coloumns\n",
        "\n",
        "  size=(row,coloumn)\n",
        "  return size  # return row and coloumn as ( row,coloumn)"
      ],
      "metadata": {
        "id": "JPP3hjK_n35x"
      },
      "execution_count": 12,
      "outputs": []
    },
    {
      "cell_type": "markdown",
      "source": [
        "Example 1"
      ],
      "metadata": {
        "id": "_tfjVrMXddBo"
      }
    },
    {
      "cell_type": "code",
      "source": [
        "M=[[1,2],[2,4]]\n",
        "print(\"The size of Matrix is: \",size_of_matrix(M)) # output will be (2,2)"
      ],
      "metadata": {
        "colab": {
          "base_uri": "https://localhost:8080/"
        },
        "id": "xGrc4KUaom94",
        "outputId": "23dc07ef-9d63-408b-c944-ab440ac157df"
      },
      "execution_count": 77,
      "outputs": [
        {
          "output_type": "stream",
          "name": "stdout",
          "text": [
            "The size of Matrix is:  (2, 2)\n"
          ]
        }
      ]
    },
    {
      "cell_type": "markdown",
      "source": [
        "Example 2"
      ],
      "metadata": {
        "id": "JSnZ4YS2dha7"
      }
    },
    {
      "cell_type": "code",
      "source": [
        "M=[[1,2,3,4],[2,4,6,8]]\n",
        "print(\"The size of Matrix is: \",size_of_matrix(M))"
      ],
      "metadata": {
        "colab": {
          "base_uri": "https://localhost:8080/"
        },
        "id": "EaelMjb9dfBJ",
        "outputId": "a9a488c5-faf4-4095-8082-329f5ae7554c"
      },
      "execution_count": 78,
      "outputs": [
        {
          "output_type": "stream",
          "name": "stdout",
          "text": [
            "The size of Matrix is:  (2, 4)\n"
          ]
        }
      ]
    },
    {
      "cell_type": "markdown",
      "source": [
        "Example 3"
      ],
      "metadata": {
        "id": "MC76KTBydfgj"
      }
    },
    {
      "cell_type": "code",
      "source": [
        "M=[[1,2,3],[2,4,5],[7,1,-1]]\n",
        "print(\"The size of Matrix is: \",size_of_matrix(M))"
      ],
      "metadata": {
        "colab": {
          "base_uri": "https://localhost:8080/"
        },
        "id": "JvB3haL9dgIt",
        "outputId": "94a4713a-26ae-47c0-f561-2fdebd5fd640"
      },
      "execution_count": 79,
      "outputs": [
        {
          "output_type": "stream",
          "name": "stdout",
          "text": [
            "The size of Matrix is:  (3, 3)\n"
          ]
        }
      ]
    },
    {
      "cell_type": "markdown",
      "source": [
        "# Sum/subtract the matrix with another matrix of suitable size. Print a suitable error message if incorrect matrix sizes are passed."
      ],
      "metadata": {
        "id": "FjB06JeTnGbH"
      }
    },
    {
      "cell_type": "code",
      "source": [
        "# Addition of Matrices\n",
        "\n",
        "def addition_of_matrix(M,N):\n",
        " if len(M) != len(N) or len(M[0]) != len(N[0]):  # checks if matrices has same dimension for addition\n",
        "  raise ValueError(\"Addition/Substraction cannot be done on Matrices with different dimensions \")\n",
        " A =[]\n",
        " for i in range (0,len(M))  :  # iterate through coloumns\n",
        "  row=[]\n",
        "  for j in range (0,len(M[0])) : #iterate through rows\n",
        "   row.append(M[i][j] + N[i][j]) # adding elements of  M and N\n",
        "  A.append(row)    # Appendind the added rows to A[]\n",
        " return A\n",
        "\n",
        "\n",
        "# Substraction of Matrices\n",
        "\n",
        "\n",
        "def substraction_of_matrix(M,N):\n",
        " if len(M) != len(N) or len(M[0]) != len(N[0]):  # checks if matrices has same dimension for substraction\n",
        "  raise ValueError(\"Substraction cannot be done on Matrices with different dimensions \")\n",
        " A=[]  # intiating a empty List\n",
        " for i in range (0,len(M))  :\n",
        "  row=[]  # intiating row of Matrix\n",
        "  for j in range (0,len(M[0])) :\n",
        "   row.append(M[i][j] - N[i][j])\n",
        "  A.append(row) # Appending each rows to A\n",
        " return A"
      ],
      "metadata": {
        "id": "JYTBm3Jan4_f"
      },
      "execution_count": 147,
      "outputs": []
    },
    {
      "cell_type": "markdown",
      "source": [],
      "metadata": {
        "id": "WsalnLuTf-gY"
      }
    },
    {
      "cell_type": "code",
      "source": [
        "A=[[1,2],\n",
        "   [3,4]]\n",
        "B=[[2,3] ,\n",
        "   [4,5]]\n",
        "print(\" The result of addition of both Matrices are:\",addition_of_matrix(A,B))\n",
        "print(\" The result of Substraction of both Matrices are:\",substraction_of_matrix(A,B))"
      ],
      "metadata": {
        "colab": {
          "base_uri": "https://localhost:8080/"
        },
        "id": "Fqw5X_G3oulm",
        "outputId": "955cead4-4695-4e29-d9ab-4e10bd42eb41"
      },
      "execution_count": 148,
      "outputs": [
        {
          "output_type": "stream",
          "name": "stdout",
          "text": [
            " The result of addition of both Matrices are: [[3, 5], [7, 9]]\n",
            " The result of Substraction of both Matrices are: [[-1, -1], [-1, -1]]\n"
          ]
        }
      ]
    },
    {
      "cell_type": "markdown",
      "source": [
        "Example 2"
      ],
      "metadata": {
        "id": "lntAyGBHgBU7"
      }
    },
    {
      "cell_type": "code",
      "source": [
        "A=[[1,2,3],\n",
        "   [3,4,5]]\n",
        "B=[[2,3] ,\n",
        "   [4,5]]\n",
        "print(addition_of_matrix(A,B))\n",
        "print(substraction_of_matrix(A,B))  # raise ValueError(\"Addition/substraction cannot be done on Matrices with different dimensions \")"
      ],
      "metadata": {
        "colab": {
          "base_uri": "https://localhost:8080/",
          "height": 363
        },
        "id": "LnxJc6-6gBvw",
        "outputId": "6b5b17e5-fbc7-480a-8518-5bc92d13cec3"
      },
      "execution_count": 150,
      "outputs": [
        {
          "output_type": "error",
          "ename": "ValueError",
          "evalue": "ignored",
          "traceback": [
            "\u001b[0;31m---------------------------------------------------------------------------\u001b[0m",
            "\u001b[0;31mValueError\u001b[0m                                Traceback (most recent call last)",
            "\u001b[0;32m<ipython-input-150-05744c368224>\u001b[0m in \u001b[0;36m<cell line: 5>\u001b[0;34m()\u001b[0m\n\u001b[1;32m      3\u001b[0m B=[[2,3] ,\n\u001b[1;32m      4\u001b[0m    [4,5]]\n\u001b[0;32m----> 5\u001b[0;31m \u001b[0mprint\u001b[0m\u001b[0;34m(\u001b[0m\u001b[0maddition_of_matrix\u001b[0m\u001b[0;34m(\u001b[0m\u001b[0mA\u001b[0m\u001b[0;34m,\u001b[0m\u001b[0mB\u001b[0m\u001b[0;34m)\u001b[0m\u001b[0;34m)\u001b[0m\u001b[0;34m\u001b[0m\u001b[0;34m\u001b[0m\u001b[0m\n\u001b[0m\u001b[1;32m      6\u001b[0m \u001b[0mprint\u001b[0m\u001b[0;34m(\u001b[0m\u001b[0msubstraction_of_matrix\u001b[0m\u001b[0;34m(\u001b[0m\u001b[0mA\u001b[0m\u001b[0;34m,\u001b[0m\u001b[0mB\u001b[0m\u001b[0;34m)\u001b[0m\u001b[0;34m)\u001b[0m  \u001b[0;31m# raise ValueError(\"Addition/substraction cannot be done on Matrices with different dimensions \")\u001b[0m\u001b[0;34m\u001b[0m\u001b[0;34m\u001b[0m\u001b[0m\n",
            "\u001b[0;32m<ipython-input-147-779e1abbc9aa>\u001b[0m in \u001b[0;36maddition_of_matrix\u001b[0;34m(M, N)\u001b[0m\n\u001b[1;32m      3\u001b[0m \u001b[0;32mdef\u001b[0m \u001b[0maddition_of_matrix\u001b[0m\u001b[0;34m(\u001b[0m\u001b[0mM\u001b[0m\u001b[0;34m,\u001b[0m\u001b[0mN\u001b[0m\u001b[0;34m)\u001b[0m\u001b[0;34m:\u001b[0m\u001b[0;34m\u001b[0m\u001b[0;34m\u001b[0m\u001b[0m\n\u001b[1;32m      4\u001b[0m  \u001b[0;32mif\u001b[0m \u001b[0mlen\u001b[0m\u001b[0;34m(\u001b[0m\u001b[0mM\u001b[0m\u001b[0;34m)\u001b[0m \u001b[0;34m!=\u001b[0m \u001b[0mlen\u001b[0m\u001b[0;34m(\u001b[0m\u001b[0mN\u001b[0m\u001b[0;34m)\u001b[0m \u001b[0;32mor\u001b[0m \u001b[0mlen\u001b[0m\u001b[0;34m(\u001b[0m\u001b[0mM\u001b[0m\u001b[0;34m[\u001b[0m\u001b[0;36m0\u001b[0m\u001b[0;34m]\u001b[0m\u001b[0;34m)\u001b[0m \u001b[0;34m!=\u001b[0m \u001b[0mlen\u001b[0m\u001b[0;34m(\u001b[0m\u001b[0mN\u001b[0m\u001b[0;34m[\u001b[0m\u001b[0;36m0\u001b[0m\u001b[0;34m]\u001b[0m\u001b[0;34m)\u001b[0m\u001b[0;34m:\u001b[0m  \u001b[0;31m# checks if matrices has same dimension for addition\u001b[0m\u001b[0;34m\u001b[0m\u001b[0;34m\u001b[0m\u001b[0m\n\u001b[0;32m----> 5\u001b[0;31m   \u001b[0;32mraise\u001b[0m \u001b[0mValueError\u001b[0m\u001b[0;34m(\u001b[0m\u001b[0;34m\"Addition/Substraction cannot be done on Matrices with different dimensions \"\u001b[0m\u001b[0;34m)\u001b[0m\u001b[0;34m\u001b[0m\u001b[0;34m\u001b[0m\u001b[0m\n\u001b[0m\u001b[1;32m      6\u001b[0m  \u001b[0mA\u001b[0m \u001b[0;34m=\u001b[0m\u001b[0;34m[\u001b[0m\u001b[0;34m]\u001b[0m\u001b[0;34m\u001b[0m\u001b[0;34m\u001b[0m\u001b[0m\n\u001b[1;32m      7\u001b[0m  \u001b[0;32mfor\u001b[0m \u001b[0mi\u001b[0m \u001b[0;32min\u001b[0m \u001b[0mrange\u001b[0m \u001b[0;34m(\u001b[0m\u001b[0;36m0\u001b[0m\u001b[0;34m,\u001b[0m\u001b[0mlen\u001b[0m\u001b[0;34m(\u001b[0m\u001b[0mM\u001b[0m\u001b[0;34m)\u001b[0m\u001b[0;34m)\u001b[0m  \u001b[0;34m:\u001b[0m  \u001b[0;31m# iterate through coloumns\u001b[0m\u001b[0;34m\u001b[0m\u001b[0;34m\u001b[0m\u001b[0m\n",
            "\u001b[0;31mValueError\u001b[0m: Addition/Substraction cannot be done on Matrices with different dimensions "
          ]
        }
      ]
    },
    {
      "cell_type": "markdown",
      "source": [
        "Example 3"
      ],
      "metadata": {
        "id": "LPcPT-rblaaO"
      }
    },
    {
      "cell_type": "code",
      "source": [
        "A=[[4,5,7],\n",
        "   [9,12,17]]\n",
        "B=[[20,3,-2] ,\n",
        "   [43,5,-13]]\n",
        "print(\" The result of addition of both Matrices are:\",addition_of_matrix(A,B))\n",
        "print(\" The result of Substraction of both Matrices are:\",substraction_of_matrix(A,B))"
      ],
      "metadata": {
        "colab": {
          "base_uri": "https://localhost:8080/"
        },
        "id": "Law6PHuzlXx7",
        "outputId": "18e1a278-0f7a-4fa2-9591-eecaace85389"
      },
      "execution_count": 149,
      "outputs": [
        {
          "output_type": "stream",
          "name": "stdout",
          "text": [
            " The result of addition of both Matrices are: [[24, 8, 5], [52, 17, 4]]\n",
            " The result of Substraction of both Matrices are: [[-16, 2, 9], [-34, 7, 30]]\n"
          ]
        }
      ]
    },
    {
      "cell_type": "markdown",
      "source": [
        "# Multiply the matrix with a vector of suitable size. Print a suitable error message if incorrect matrix/vector sizes are passed."
      ],
      "metadata": {
        "id": "Y7FCCvcUnG12"
      }
    },
    {
      "cell_type": "code",
      "source": [
        "def matrix_mutli_scalar(M,s):\n",
        " if len(M[0])!=len(s):\n",
        "  raise ValueError(\" Matrix and vector multiplican cannot be done since dimensions are not suitable\")\n",
        " A=[0]*len(M)   # intiating a List of zeros with same number of element in the row of matrix\n",
        " for i in range (0,len(M))  :\n",
        "  for j in range (0,len(M[0])) :\n",
        "   A[i]+= M[i][j] *s[j] # Multiplying M and s\n",
        " return A"
      ],
      "metadata": {
        "id": "FlbKyf6Hn6Fa"
      },
      "execution_count": 104,
      "outputs": []
    },
    {
      "cell_type": "markdown",
      "source": [
        "Example 1"
      ],
      "metadata": {
        "id": "TZycN98FmCJg"
      }
    },
    {
      "cell_type": "code",
      "source": [
        "M=[[1,2],[3,4]]\n",
        "A=[2,1]\n",
        "print(\" The reult of multiplication of Matrix and vector as above is :\",matrix_mutli_scalar(M,A))"
      ],
      "metadata": {
        "colab": {
          "base_uri": "https://localhost:8080/"
        },
        "id": "29gUxlDeoz4g",
        "outputId": "da8c45c6-3f0b-4922-fa58-b3bb62c4f248"
      },
      "execution_count": 105,
      "outputs": [
        {
          "output_type": "stream",
          "name": "stdout",
          "text": [
            " The reult of multiplication of Matrix and vector as above is : [4, 10]\n"
          ]
        }
      ]
    },
    {
      "cell_type": "markdown",
      "source": [
        "Example 2"
      ],
      "metadata": {
        "id": "B08MjmiymFRi"
      }
    },
    {
      "cell_type": "code",
      "source": [
        "M=[[1,2,3],[3,4,5]]\n",
        "A=[2,1]\n",
        "print(\" The reult of multiplication of Matrix and scalar as above is :\",matrix_mutli_scalar(M,A))\n",
        " # raise ValueError:  Matrix and vector multiplican cannot be done since dimensions are not suitable"
      ],
      "metadata": {
        "colab": {
          "base_uri": "https://localhost:8080/",
          "height": 345
        },
        "id": "PZFgaE8bmGxF",
        "outputId": "9b3c2197-8b4f-436a-8cc1-0e6fcbcd4eed"
      },
      "execution_count": 102,
      "outputs": [
        {
          "output_type": "error",
          "ename": "ValueError",
          "evalue": "ignored",
          "traceback": [
            "\u001b[0;31m---------------------------------------------------------------------------\u001b[0m",
            "\u001b[0;31mValueError\u001b[0m                                Traceback (most recent call last)",
            "\u001b[0;32m<ipython-input-102-9ebb0c7e17e5>\u001b[0m in \u001b[0;36m<cell line: 3>\u001b[0;34m()\u001b[0m\n\u001b[1;32m      1\u001b[0m \u001b[0mM\u001b[0m\u001b[0;34m=\u001b[0m\u001b[0;34m[\u001b[0m\u001b[0;34m[\u001b[0m\u001b[0;36m1\u001b[0m\u001b[0;34m,\u001b[0m\u001b[0;36m2\u001b[0m\u001b[0;34m,\u001b[0m\u001b[0;36m3\u001b[0m\u001b[0;34m]\u001b[0m\u001b[0;34m,\u001b[0m\u001b[0;34m[\u001b[0m\u001b[0;36m3\u001b[0m\u001b[0;34m,\u001b[0m\u001b[0;36m4\u001b[0m\u001b[0;34m,\u001b[0m\u001b[0;36m5\u001b[0m\u001b[0;34m]\u001b[0m\u001b[0;34m]\u001b[0m\u001b[0;34m\u001b[0m\u001b[0;34m\u001b[0m\u001b[0m\n\u001b[1;32m      2\u001b[0m \u001b[0mA\u001b[0m\u001b[0;34m=\u001b[0m\u001b[0;34m[\u001b[0m\u001b[0;36m2\u001b[0m\u001b[0;34m,\u001b[0m\u001b[0;36m1\u001b[0m\u001b[0;34m]\u001b[0m\u001b[0;34m\u001b[0m\u001b[0;34m\u001b[0m\u001b[0m\n\u001b[0;32m----> 3\u001b[0;31m \u001b[0mprint\u001b[0m\u001b[0;34m(\u001b[0m\u001b[0;34m\" The reult of multiplication of Matrix and scalar as above is :\"\u001b[0m\u001b[0;34m,\u001b[0m\u001b[0mmatrix_mutli_scalar\u001b[0m\u001b[0;34m(\u001b[0m\u001b[0mM\u001b[0m\u001b[0;34m,\u001b[0m\u001b[0mA\u001b[0m\u001b[0;34m)\u001b[0m\u001b[0;34m)\u001b[0m\u001b[0;34m\u001b[0m\u001b[0;34m\u001b[0m\u001b[0m\n\u001b[0m",
            "\u001b[0;32m<ipython-input-16-95b4575bb1dc>\u001b[0m in \u001b[0;36mmatrix_mutli_scalar\u001b[0;34m(M, s)\u001b[0m\n\u001b[1;32m      1\u001b[0m \u001b[0;32mdef\u001b[0m \u001b[0mmatrix_mutli_scalar\u001b[0m\u001b[0;34m(\u001b[0m\u001b[0mM\u001b[0m\u001b[0;34m,\u001b[0m\u001b[0ms\u001b[0m\u001b[0;34m)\u001b[0m\u001b[0;34m:\u001b[0m\u001b[0;34m\u001b[0m\u001b[0;34m\u001b[0m\u001b[0m\n\u001b[1;32m      2\u001b[0m    \u001b[0;32mif\u001b[0m \u001b[0mlen\u001b[0m\u001b[0;34m(\u001b[0m\u001b[0mM\u001b[0m\u001b[0;34m[\u001b[0m\u001b[0;36m0\u001b[0m\u001b[0;34m]\u001b[0m\u001b[0;34m)\u001b[0m\u001b[0;34m!=\u001b[0m\u001b[0mlen\u001b[0m\u001b[0;34m(\u001b[0m\u001b[0ms\u001b[0m\u001b[0;34m)\u001b[0m\u001b[0;34m:\u001b[0m\u001b[0;34m\u001b[0m\u001b[0;34m\u001b[0m\u001b[0m\n\u001b[0;32m----> 3\u001b[0;31m      \u001b[0;32mraise\u001b[0m \u001b[0mValueError\u001b[0m\u001b[0;34m(\u001b[0m\u001b[0;34m\" Matrix and vector multiplican cannot be done since dimensions are not suitable\"\u001b[0m\u001b[0;34m)\u001b[0m\u001b[0;34m\u001b[0m\u001b[0;34m\u001b[0m\u001b[0m\n\u001b[0m\u001b[1;32m      4\u001b[0m    \u001b[0mA\u001b[0m\u001b[0;34m=\u001b[0m\u001b[0;34m[\u001b[0m\u001b[0;36m0\u001b[0m\u001b[0;34m]\u001b[0m\u001b[0;34m*\u001b[0m\u001b[0mlen\u001b[0m\u001b[0;34m(\u001b[0m\u001b[0mM\u001b[0m\u001b[0;34m)\u001b[0m   \u001b[0;31m# intiating a List of zeros with same number of element in the row of matrix\u001b[0m\u001b[0;34m\u001b[0m\u001b[0;34m\u001b[0m\u001b[0m\n\u001b[1;32m      5\u001b[0m    \u001b[0;32mfor\u001b[0m \u001b[0mi\u001b[0m \u001b[0;32min\u001b[0m \u001b[0mrange\u001b[0m \u001b[0;34m(\u001b[0m\u001b[0;36m0\u001b[0m\u001b[0;34m,\u001b[0m\u001b[0mlen\u001b[0m\u001b[0;34m(\u001b[0m\u001b[0mM\u001b[0m\u001b[0;34m)\u001b[0m\u001b[0;34m)\u001b[0m  \u001b[0;34m:\u001b[0m\u001b[0;34m\u001b[0m\u001b[0;34m\u001b[0m\u001b[0m\n",
            "\u001b[0;31mValueError\u001b[0m:  Matrix and vector multiplican cannot be done since dimensions are not suitable"
          ]
        }
      ]
    },
    {
      "cell_type": "markdown",
      "source": [
        "Example 3"
      ],
      "metadata": {
        "id": "IcgoMJCvmHbW"
      }
    },
    {
      "cell_type": "code",
      "source": [
        "M=[[1,2,3],[3,4,5]]\n",
        "A=[2,1,0]\n",
        "print(\" The reult of multiplication of Matrix and scalar as above is :\",matrix_mutli_scalar(M,A))"
      ],
      "metadata": {
        "colab": {
          "base_uri": "https://localhost:8080/"
        },
        "id": "MfGGRqNEmI8J",
        "outputId": "224cf9b4-6ed8-498f-a92b-b10f15a58def"
      },
      "execution_count": 103,
      "outputs": [
        {
          "output_type": "stream",
          "name": "stdout",
          "text": [
            " The reult of multiplication of Matrix and scalar as above is : [4, 10]\n"
          ]
        }
      ]
    },
    {
      "cell_type": "markdown",
      "source": [
        "# Multiply the matrix with a matrix of suitable size. Print a suitable error message if incorrect matrix sizes are passed."
      ],
      "metadata": {
        "id": "1UDwwaRfnj-y"
      }
    },
    {
      "cell_type": "code",
      "source": [
        "def matrix_mutliplication(M,N):\n",
        " if len(M[0]) != len(N) :\n",
        "  raise ValueError(\" Matrix  multiplican cannot be done since dimensions are not suitable\")\n",
        " A=[]   # intiating a List\n",
        " for i in range (0,len(M))  :\n",
        "  row=[0]*len(N[0]) # initiating a list with zeros as many as rows of M\n",
        "  for j in range (0,len(N[0])) :\n",
        "   for k in range (len(N)) :\n",
        "    row[j]+= M[i][k] *N[k][j] # Multiplying M and N\n",
        "  A.append(row)\n",
        " return A"
      ],
      "metadata": {
        "id": "pQqN7Ah2n6t1"
      },
      "execution_count": 158,
      "outputs": []
    },
    {
      "cell_type": "markdown",
      "source": [
        "Example 1"
      ],
      "metadata": {
        "id": "WpQApnhnnv30"
      }
    },
    {
      "cell_type": "code",
      "source": [
        "M=[[1,2],\n",
        "   [3,4]]\n",
        "N=[[1,1],\n",
        "   [2,2]]\n",
        "print(\"The product of Matrix multiplication is : \" ,matrix_mutliplication(M,N))"
      ],
      "metadata": {
        "colab": {
          "base_uri": "https://localhost:8080/"
        },
        "id": "ReC9VLVZo4v2",
        "outputId": "d9dfd47d-d169-4b77-97d7-a631810fb9d6"
      },
      "execution_count": 152,
      "outputs": [
        {
          "output_type": "stream",
          "name": "stdout",
          "text": [
            "The product of Matrix multiplication is :  [[5, 5], [11, 11]]\n"
          ]
        }
      ]
    },
    {
      "cell_type": "markdown",
      "source": [
        "Example 2"
      ],
      "metadata": {
        "id": "_i81L5KfnxJ9"
      }
    },
    {
      "cell_type": "code",
      "source": [
        "M=[[1,2,3],\n",
        "   [3,4,5]]\n",
        "N=[[1,1],\n",
        "   [2,2]]\n",
        "print(\"The product of Matrix multiplication is : \" ,matrix_mutliplication(M,N))\n",
        "# raise ValueError:  Matrix  multiplican cannot be done since dimensions are not suitable"
      ],
      "metadata": {
        "colab": {
          "base_uri": "https://localhost:8080/",
          "height": 345
        },
        "id": "EhF-zYalnxqx",
        "outputId": "7b6f7ed5-f03a-44ab-d9a7-e3753075a92f"
      },
      "execution_count": 160,
      "outputs": [
        {
          "output_type": "error",
          "ename": "ValueError",
          "evalue": "ignored",
          "traceback": [
            "\u001b[0;31m---------------------------------------------------------------------------\u001b[0m",
            "\u001b[0;31mValueError\u001b[0m                                Traceback (most recent call last)",
            "\u001b[0;32m<ipython-input-160-6cd1bd0624d5>\u001b[0m in \u001b[0;36m<cell line: 5>\u001b[0;34m()\u001b[0m\n\u001b[1;32m      3\u001b[0m N=[[1,1],\n\u001b[1;32m      4\u001b[0m    [2,2]]\n\u001b[0;32m----> 5\u001b[0;31m \u001b[0mprint\u001b[0m\u001b[0;34m(\u001b[0m\u001b[0;34m\"The product of Matrix multiplication is : \"\u001b[0m \u001b[0;34m,\u001b[0m\u001b[0mmatrix_mutliplication\u001b[0m\u001b[0;34m(\u001b[0m\u001b[0mM\u001b[0m\u001b[0;34m,\u001b[0m\u001b[0mN\u001b[0m\u001b[0;34m)\u001b[0m\u001b[0;34m)\u001b[0m\u001b[0;34m\u001b[0m\u001b[0;34m\u001b[0m\u001b[0m\n\u001b[0m",
            "\u001b[0;32m<ipython-input-158-323d873d8b3c>\u001b[0m in \u001b[0;36mmatrix_mutliplication\u001b[0;34m(M, N)\u001b[0m\n\u001b[1;32m      1\u001b[0m \u001b[0;32mdef\u001b[0m \u001b[0mmatrix_mutliplication\u001b[0m\u001b[0;34m(\u001b[0m\u001b[0mM\u001b[0m\u001b[0;34m,\u001b[0m\u001b[0mN\u001b[0m\u001b[0;34m)\u001b[0m\u001b[0;34m:\u001b[0m\u001b[0;34m\u001b[0m\u001b[0;34m\u001b[0m\u001b[0m\n\u001b[1;32m      2\u001b[0m  \u001b[0;32mif\u001b[0m \u001b[0mlen\u001b[0m\u001b[0;34m(\u001b[0m\u001b[0mM\u001b[0m\u001b[0;34m[\u001b[0m\u001b[0;36m0\u001b[0m\u001b[0;34m]\u001b[0m\u001b[0;34m)\u001b[0m \u001b[0;34m!=\u001b[0m \u001b[0mlen\u001b[0m\u001b[0;34m(\u001b[0m\u001b[0mN\u001b[0m\u001b[0;34m)\u001b[0m \u001b[0;34m:\u001b[0m\u001b[0;34m\u001b[0m\u001b[0;34m\u001b[0m\u001b[0m\n\u001b[0;32m----> 3\u001b[0;31m   \u001b[0;32mraise\u001b[0m \u001b[0mValueError\u001b[0m\u001b[0;34m(\u001b[0m\u001b[0;34m\" Matrix  multiplican cannot be done since dimensions are not suitable\"\u001b[0m\u001b[0;34m)\u001b[0m\u001b[0;34m\u001b[0m\u001b[0;34m\u001b[0m\u001b[0m\n\u001b[0m\u001b[1;32m      4\u001b[0m  \u001b[0mA\u001b[0m\u001b[0;34m=\u001b[0m\u001b[0;34m[\u001b[0m\u001b[0;34m]\u001b[0m   \u001b[0;31m# intiating a List\u001b[0m\u001b[0;34m\u001b[0m\u001b[0;34m\u001b[0m\u001b[0m\n\u001b[1;32m      5\u001b[0m  \u001b[0;32mfor\u001b[0m \u001b[0mi\u001b[0m \u001b[0;32min\u001b[0m \u001b[0mrange\u001b[0m \u001b[0;34m(\u001b[0m\u001b[0;36m0\u001b[0m\u001b[0;34m,\u001b[0m\u001b[0mlen\u001b[0m\u001b[0;34m(\u001b[0m\u001b[0mM\u001b[0m\u001b[0;34m)\u001b[0m\u001b[0;34m)\u001b[0m  \u001b[0;34m:\u001b[0m\u001b[0;34m\u001b[0m\u001b[0;34m\u001b[0m\u001b[0m\n",
            "\u001b[0;31mValueError\u001b[0m:  Matrix  multiplican cannot be done since dimensions are not suitable"
          ]
        }
      ]
    },
    {
      "cell_type": "markdown",
      "source": [
        "Example 3"
      ],
      "metadata": {
        "id": "5UvGy5YnnyR-"
      }
    },
    {
      "cell_type": "code",
      "source": [
        "M=[[1,2],\n",
        "   [3,4]]\n",
        "N=[[1,1,5],\n",
        "   [2,2,7]]\n",
        "print(\"The product of Matrix multiplication is : \" ,matrix_mutliplication(M,N))"
      ],
      "metadata": {
        "colab": {
          "base_uri": "https://localhost:8080/"
        },
        "id": "Oab_ESbbnyr_",
        "outputId": "a307e123-a829-492d-8e27-9b6606bd15d6"
      },
      "execution_count": 161,
      "outputs": [
        {
          "output_type": "stream",
          "name": "stdout",
          "text": [
            "The product of Matrix multiplication is :  [[5, 5, 19], [11, 11, 43]]\n"
          ]
        }
      ]
    },
    {
      "cell_type": "markdown",
      "source": [
        "# Calculate the determinant of a 2x2 matrix. For any other matrix this function should print a suitable error message."
      ],
      "metadata": {
        "id": "8AzCiOGMnkYD"
      }
    },
    {
      "cell_type": "code",
      "source": [
        "def determinant_twobytwo_matrix(M):\n",
        "  if len(M)==len(M[0])==2: # check if given matrices are 2*2\n",
        "    A=M[0][0]*M[1][1]-M[0][1]*M[1][0]  #  finding determinant\n",
        "    return A\n",
        "  else :\n",
        "    raise ValueError (\"Please enter a 2*2 Matrix\")"
      ],
      "metadata": {
        "id": "hdFDa_s1n73d"
      },
      "execution_count": 20,
      "outputs": []
    },
    {
      "cell_type": "markdown",
      "source": [
        "Example 1"
      ],
      "metadata": {
        "id": "5FPkum9rz_NG"
      }
    },
    {
      "cell_type": "code",
      "source": [
        "M=[[1,2],[3,4]]\n",
        "print(\" The determinant of the given Matrix is :\" ,determinant_twobytwo_matrix(M))"
      ],
      "metadata": {
        "colab": {
          "base_uri": "https://localhost:8080/"
        },
        "id": "IbOxVsQso-0A",
        "outputId": "c730a839-e143-4670-9918-605491d4a906"
      },
      "execution_count": 163,
      "outputs": [
        {
          "output_type": "stream",
          "name": "stdout",
          "text": [
            " The determinant of the given Matrix is : -2\n"
          ]
        }
      ]
    },
    {
      "cell_type": "markdown",
      "source": [
        "Example 2"
      ],
      "metadata": {
        "id": "AefvRO1o0AkB"
      }
    },
    {
      "cell_type": "code",
      "source": [
        "M=[[-7,9],[4,6]]\n",
        "print(\" The determinant of the given Matrix is :\" ,determinant_twobytwo_matrix(M))"
      ],
      "metadata": {
        "colab": {
          "base_uri": "https://localhost:8080/"
        },
        "id": "CU2N9y0X0BGI",
        "outputId": "a750222f-fcee-4d5e-aa9b-5a51530fbe73"
      },
      "execution_count": 164,
      "outputs": [
        {
          "output_type": "stream",
          "name": "stdout",
          "text": [
            " The determinant of the given Matrix is : -78\n"
          ]
        }
      ]
    },
    {
      "cell_type": "markdown",
      "source": [
        "# Calculate the inverse of a 2x2 matrix.  For any other matrix this function should print a suitable error message. An error message should also be raised if the matrix is non-invertible."
      ],
      "metadata": {
        "id": "nJnbX658nlCa"
      }
    },
    {
      "cell_type": "code",
      "source": [
        "def inverse_twobytwo_matrix(M):\n",
        "  if len(M)==len(M[0])==2: # check if given matrices are 2*2\n",
        "    det=M[0][0]*M[1][1]-M[0][1]*M[1][0] # calculating determinant\n",
        "    if det==0:\n",
        "      raise ValueError (\"This inverse of this matrix does not exist\") # if determinant is zero inverse does not exist\n",
        "    inverse=[[M[1][1]/det,-M[0][1]/det],[-M[1][0]/det,M[0][0]/det]] # calculating inverse of matrix\n",
        "    return inverse\n",
        "  else :\n",
        "    raise ValueError (\"Please enter a 2*2 Matrix\")"
      ],
      "metadata": {
        "id": "amQCZqMfn9Aw"
      },
      "execution_count": 22,
      "outputs": []
    },
    {
      "cell_type": "markdown",
      "source": [
        "Example 1"
      ],
      "metadata": {
        "id": "RWY51ADh0Olw"
      }
    },
    {
      "cell_type": "code",
      "source": [
        "M=[[1,2],\n",
        "   [3,4]]\n",
        "print(\" The inverse of above Matrix is : \",inverse_twobytwo_matrix(M))"
      ],
      "metadata": {
        "colab": {
          "base_uri": "https://localhost:8080/"
        },
        "id": "Z0E6s05UpDig",
        "outputId": "3b8942b2-467a-4d16-c8da-283297a57218"
      },
      "execution_count": 165,
      "outputs": [
        {
          "output_type": "stream",
          "name": "stdout",
          "text": [
            " The inverse of above Matrix is :  [[-2.0, 1.0], [1.5, -0.5]]\n"
          ]
        }
      ]
    },
    {
      "cell_type": "markdown",
      "source": [
        "# Example 2"
      ],
      "metadata": {
        "id": "KbZ4jL6n0Qcz"
      }
    },
    {
      "cell_type": "code",
      "source": [
        "M=[[-1,3],\n",
        "   [-4,4]]\n",
        "print(\" The inverse of above Matrix is : \",inverse_twobytwo_matrix(M))"
      ],
      "metadata": {
        "colab": {
          "base_uri": "https://localhost:8080/"
        },
        "id": "WDWqKfik0Rtx",
        "outputId": "6ae80199-c860-46cb-c570-5d74aa1d357d"
      },
      "execution_count": 166,
      "outputs": [
        {
          "output_type": "stream",
          "name": "stdout",
          "text": [
            " The inverse of above Matrix is :  [[0.5, -0.375], [0.5, -0.125]]\n"
          ]
        }
      ]
    }
  ],
  "metadata": {
    "kernelspec": {
      "display_name": "Python 3 (ipykernel)",
      "language": "python",
      "name": "python3"
    },
    "language_info": {
      "codemirror_mode": {
        "name": "ipython",
        "version": 3
      },
      "file_extension": ".py",
      "mimetype": "text/x-python",
      "name": "python",
      "nbconvert_exporter": "python",
      "pygments_lexer": "ipython3",
      "version": "3.9.11"
    },
    "colab": {
      "provenance": []
    }
  },
  "nbformat": 4,
  "nbformat_minor": 0
}